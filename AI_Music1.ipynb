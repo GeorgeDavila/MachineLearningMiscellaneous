{
  "nbformat": 4,
  "nbformat_minor": 0,
  "metadata": {
    "colab": {
      "name": "AI_Music1.ipynb",
      "version": "0.3.2",
      "provenance": [],
      "collapsed_sections": [],
      "include_colab_link": true
    },
    "kernelspec": {
      "name": "python3",
      "display_name": "Python 3"
    }
  },
  "cells": [
    {
      "cell_type": "markdown",
      "metadata": {
        "id": "view-in-github",
        "colab_type": "text"
      },
      "source": [
        "<a href=\"https://colab.research.google.com/github/GeorgeDavila/MachineLearningMiscellaneous/blob/master/AI_Music1.ipynb\" target=\"_parent\"><img src=\"https://colab.research.google.com/assets/colab-badge.svg\" alt=\"Open In Colab\"/></a>"
      ]
    },
    {
      "metadata": {
        "id": "who9g0jNgI9Y",
        "colab_type": "text"
      },
      "cell_type": "markdown",
      "source": [
        "**Music is a sequence of notes, so we need to use a sequence learning model. Must accept sequence of inputs and give sequence of outputs.** \n",
        "\n",
        "**Plain Neural Nets cant do this, they accept a fixed size input like image or number. So we use *Rucurrent Neural Networks (RNNs)*. These can deal with sequences since data doesnt just flow one way, it loops. This allows RNNs to have a kind of short term memory.**\n",
        "\n",
        "Can't just have short term memory, otherwise it'll weigh more recent inputs more heavily. We need a special type of Recurrent Neural Network called a ***LSTM network*** which can remember things from way back in the sequence of data and uses everything it remebers to generate new sequences.\n",
        "\n",
        "Our model will generate the sequences and chord mapping file to a file in the data folder. This is a serialized byte representation of our music that we can input directly into our model to train\n",
        "\n",
        "hyperparameters such as number of layers, num of iterations for training, how many neurons. You can also use an existing model with pre-tuned hyperparameters to build something good"
      ]
    },
    {
      "metadata": {
        "id": "Chisz7z_ewCD",
        "colab_type": "text"
      },
      "cell_type": "markdown",
      "source": [
        "How do we represent model? 2 main things happening, main tune or melody and then theres the supporting notes or harmony. Each is represented as a vector. \n",
        "\n",
        "Assumtions:\n",
        "1) Monophonic melody - only one note at each time step\n",
        "2)Harmony at each time step can be classified into a chord class "
      ]
    },
    {
      "metadata": {
        "id": "WcRydVZnWARU",
        "colab_type": "code",
        "outputId": "d3cc2a54-1c62-49ab-8e83-30bcff3fa95b",
        "colab": {
          "base_uri": "https://localhost:8080/",
          "height": 393
        }
      },
      "cell_type": "code",
      "source": [
        "import urllib #module to let us download files from web \n",
        "import zipfile #module to handle and unzip zipfile\n",
        "import nottingham_util #ML helper class\n",
        "import rnn #Module for Recurrent Neural Networks\n",
        "\n",
        "#url retrieve method allows us to download files from web:\n",
        "url = \"www-etud.iro.umontreal.ca/~boulanni/Nottingham.zip\"\n",
        "urllib.urlretrieve(url, \"dataset.zip\")\n",
        "\n",
        "zip = zipfile.ZipFile(r'dataset.zip')\n",
        "zip.extracall('data')\n",
        "\n",
        "nottingham_util.create_model()\n",
        "\n",
        "#call train model method of neural net class to train model, gets network to start collecting input data piece by piec\n",
        "\n",
        "rnn.train_model()\n",
        "\n"
      ],
      "execution_count": 0,
      "outputs": [
        {
          "output_type": "error",
          "ename": "ModuleNotFoundError",
          "evalue": "ignored",
          "traceback": [
            "\u001b[0;31m---------------------------------------------------------------------------\u001b[0m",
            "\u001b[0;31mModuleNotFoundError\u001b[0m                       Traceback (most recent call last)",
            "\u001b[0;32m<ipython-input-1-bce6c24217ae>\u001b[0m in \u001b[0;36m<module>\u001b[0;34m()\u001b[0m\n\u001b[1;32m      1\u001b[0m \u001b[0;32mimport\u001b[0m \u001b[0murllib\u001b[0m \u001b[0;31m#module to let us download files from web\u001b[0m\u001b[0;34m\u001b[0m\u001b[0m\n\u001b[1;32m      2\u001b[0m \u001b[0;32mimport\u001b[0m \u001b[0mzipfile\u001b[0m \u001b[0;31m#module to handle and unzip zipfile\u001b[0m\u001b[0;34m\u001b[0m\u001b[0m\n\u001b[0;32m----> 3\u001b[0;31m \u001b[0;32mimport\u001b[0m \u001b[0mnottingham_util\u001b[0m \u001b[0;31m#ML helper class\u001b[0m\u001b[0;34m\u001b[0m\u001b[0m\n\u001b[0m\u001b[1;32m      4\u001b[0m \u001b[0;32mimport\u001b[0m \u001b[0mrnn\u001b[0m \u001b[0;31m#Module for Recurrent Neural Networks\u001b[0m\u001b[0;34m\u001b[0m\u001b[0m\n\u001b[1;32m      5\u001b[0m \u001b[0;34m\u001b[0m\u001b[0m\n",
            "\u001b[0;31mModuleNotFoundError\u001b[0m: No module named 'nottingham_util'",
            "",
            "\u001b[0;31m---------------------------------------------------------------------------\u001b[0;32m\nNOTE: If your import is failing due to a missing package, you can\nmanually install dependencies using either !pip or !apt.\n\nTo view examples of installing some common dependencies, click the\n\"Open Examples\" button below.\n\u001b[0;31m---------------------------------------------------------------------------\u001b[0m\n"
          ]
        }
      ]
    },
    {
      "metadata": {
        "id": "VbFTnhUOk5Ie",
        "colab_type": "code",
        "colab": {}
      },
      "cell_type": "code",
      "source": [
        "#takes a while to train but dont need to wait that long. Once we see message 'Best lost so far encountered ' we can generate sample"
      ],
      "execution_count": 0,
      "outputs": []
    }
  ]
}